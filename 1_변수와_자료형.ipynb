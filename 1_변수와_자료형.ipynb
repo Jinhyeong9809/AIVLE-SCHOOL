{
  "cells": [
    {
      "cell_type": "markdown",
      "metadata": {
        "id": "view-in-github",
        "colab_type": "text"
      },
      "source": [
        "<a href=\"https://colab.research.google.com/github/Jinhyeong9809/AIVLE-SCHOOL/blob/main/1_%EB%B3%80%EC%88%98%EC%99%80_%EC%9E%90%EB%A3%8C%ED%98%95.ipynb\" target=\"_parent\"><img src=\"https://colab.research.google.com/assets/colab-badge.svg\" alt=\"Open In Colab\"/></a>"
      ]
    },
    {
      "cell_type": "markdown",
      "id": "ef6e0004",
      "metadata": {
        "id": "ef6e0004"
      },
      "source": [
        "\n",
        "# 🐍 파이썬 기초: 변수와 자료형\n",
        "\n",
        "## 1. 개요\n",
        "본 실습에서는 파이썬의 변수와 다양한 자료형을 학습합니다.  \n",
        "변수는 데이터를 저장하는 메모리 공간이며, 자료형은 변수에 저장되는 데이터의 유형을 의미합니다.\n",
        "\n",
        "---\n",
        "\n",
        "## 2. 실습 목표\n",
        "- 변수의 개념을 이해하고 활용할 수 있다.\n",
        "- `print()` 함수를 사용하여 출력을 수행할 수 있다.\n",
        "- `input()` 함수를 사용하여 사용자의 입력을 받을 수 있다.\n",
        "- 파이썬에서 제공하는 기본 자료형 (정수, 실수, 문자열, 불리언, 리스트, 튜플, 딕셔너리, 집합)을 사용할 수 있다.\n",
        "- 자료형별 연산 방법을 이해하고 사용할 수 있다.\n"
      ]
    },
    {
      "cell_type": "markdown",
      "id": "470a64cf",
      "metadata": {
        "id": "470a64cf"
      },
      "source": [
        "\n",
        "## 3. 변수의 개념과 사용법  \n",
        "변수는 데이터를 저장하는 공간으로, 특정 값을 저장하여 코드에서 재사용할 수 있습니다.  \n",
        "변수를 선언할 때는 `=`(대입 연산자)를 사용합니다.\n",
        "\n",
        "### 3.1 변수 선언 및 출력 (`print()` 함수 사용)\n"
      ]
    },
    {
      "cell_type": "code",
      "execution_count": null,
      "id": "f9dbd429",
      "metadata": {
        "colab": {
          "base_uri": "https://localhost:8080/"
        },
        "id": "f9dbd429",
        "outputId": "04432117-fc6a-4eba-b12f-cc8a9f386360"
      },
      "outputs": [
        {
          "output_type": "stream",
          "name": "stdout",
          "text": [
            "정수형 변수: 10\n",
            "실수형 변수: 3.14\n",
            "문자열 변수: Hello\n",
            "불리언 변수: True\n"
          ]
        }
      ],
      "source": [
        "\n",
        "# 변수 선언 및 사용 예제\n",
        "a = 10       # 정수형 변수\n",
        "b = 3.14     # 실수형 변수\n",
        "c = \"Hello\"  # 문자열 변수\n",
        "d = True     # 불리언 변수\n",
        "\n",
        "# 변수 출력\n",
        "print(\"정수형 변수:\", a)\n",
        "print(\"실수형 변수:\", b)\n",
        "print(\"문자열 변수:\", c)\n",
        "print(\"불리언 변수:\", d)\n"
      ]
    },
    {
      "cell_type": "markdown",
      "id": "32637de2",
      "metadata": {
        "id": "32637de2"
      },
      "source": [
        "\n",
        "### 3.2 입력받기 (`input()` 함수 사용)\n",
        "\n",
        "사용자로부터 입력을 받을 때 `input()` 함수를 사용합니다.  \n",
        "입력받은 데이터는 기본적으로 **문자열(`str`)** 타입이므로, 숫자로 변환하려면 `int()` 또는 `float()`을 사용해야 합니다.\n"
      ]
    },
    {
      "cell_type": "code",
      "execution_count": null,
      "id": "422e7895",
      "metadata": {
        "colab": {
          "base_uri": "https://localhost:8080/"
        },
        "id": "422e7895",
        "outputId": "8d59efda-3247-4013-e5d4-2b98056ae402"
      },
      "outputs": [
        {
          "output_type": "stream",
          "name": "stdout",
          "text": [
            "이름을 입력하세요: mj\n",
            "나이를 입력하세요: 20\n",
            "당신의 이름은 mj 이며, 나이는 20 살입니다.\n"
          ]
        }
      ],
      "source": [
        "\n",
        "# 사용자 입력 받기 예제\n",
        "name = input(\"이름을 입력하세요: \")\n",
        "age = int(input(\"나이를 입력하세요: \"))  # 정수로 변환\n",
        "\n",
        "print(\"당신의 이름은\", name, \"이며, 나이는\", age, \"살입니다.\")\n"
      ]
    },
    {
      "cell_type": "markdown",
      "id": "c1424065",
      "metadata": {
        "id": "c1424065"
      },
      "source": [
        "\n",
        "## 4. 자료형 종류 및 예제  \n",
        "\n",
        "파이썬의 주요 자료형은 다음과 같습니다.\n",
        "\n",
        "- **정수형 (`int`)**: 정수를 저장하는 자료형\n",
        "- **실수형 (`float`)**: 소수점을 포함한 숫자를 저장하는 자료형\n",
        "- **문자열 (`str`)**: 텍스트 데이터를 저장하는 자료형\n",
        "- **불리언 (`bool`)**: `True` 또는 `False` 값을 가지는 논리 자료형\n",
        "- **리스트 (`list`)**: 여러 개의 값을 순서대로 저장하는 자료형 (변경 가능)\n",
        "- **튜플 (`tuple`)**: 리스트와 비슷하지만 변경할 수 없는 자료형\n",
        "- **딕셔너리 (`dict`)**: 키-값 쌍으로 데이터를 저장하는 자료형\n",
        "- **집합 (`set`)**: 중복을 허용하지 않는 자료형\n",
        "\n"
      ]
    },
    {
      "cell_type": "code",
      "execution_count": null,
      "id": "4c2eea48",
      "metadata": {
        "colab": {
          "base_uri": "https://localhost:8080/"
        },
        "id": "4c2eea48",
        "outputId": "83d20366-8aed-433e-bfa5-de4d19efdc97"
      },
      "outputs": [
        {
          "output_type": "stream",
          "name": "stdout",
          "text": [
            "정수형: 100 <class 'int'>\n",
            "실수형: 3.14 <class 'float'>\n",
            "문자열: Python <class 'str'>\n",
            "불리언: True <class 'bool'>\n",
            "리스트: [1, 2, 3, 4, 5] <class 'list'>\n",
            "튜플: (10, 20) <class 'tuple'>\n",
            "딕셔너리: {'name': 'Alice', 'age': 25} <class 'dict'>\n",
            "집합: {1, 2, 3, 4} <class 'set'>\n"
          ]
        }
      ],
      "source": [
        "\n",
        "# 정수형 (int)\n",
        "num1 = 100\n",
        "print(\"정수형:\", num1, type(num1))\n",
        "\n",
        "# 실수형 (float)\n",
        "num2 = 3.14\n",
        "print(\"실수형:\", num2, type(num2))\n",
        "\n",
        "# 문자열 (str)\n",
        "text = \"Python\"\n",
        "print(\"문자열:\", text, type(text))\n",
        "\n",
        "# 불리언 (bool)\n",
        "flag = True\n",
        "print(\"불리언:\", flag, type(flag))\n",
        "\n",
        "# 리스트 (list)\n",
        "numbers = [1, 2, 3, 4, 5]\n",
        "print(\"리스트:\", numbers, type(numbers))\n",
        "\n",
        "# 튜플 (tuple)\n",
        "coordinates = (10, 20)\n",
        "print(\"튜플:\", coordinates, type(coordinates))\n",
        "\n",
        "# 딕셔너리 (dict)\n",
        "person = {\"name\": \"Alice\", \"age\": 25}\n",
        "print(\"딕셔너리:\", person, type(person))\n",
        "\n",
        "# 집합 (set)\n",
        "unique_numbers = {1, 2, 3, 3, 4}\n",
        "print(\"집합:\", unique_numbers, type(unique_numbers))\n"
      ]
    },
    {
      "cell_type": "markdown",
      "id": "23a80ff3",
      "metadata": {
        "id": "23a80ff3"
      },
      "source": [
        "\n",
        "## 5. 자료형별 연산\n",
        "\n",
        "각 자료형에서 수행할 수 있는 연산을 살펴보겠습니다.\n",
        "\n",
        "### 5.1 숫자 연산\n"
      ]
    },
    {
      "cell_type": "code",
      "execution_count": null,
      "id": "9e274392",
      "metadata": {
        "colab": {
          "base_uri": "https://localhost:8080/"
        },
        "id": "9e274392",
        "outputId": "2e52cef7-9c58-4529-c39b-c1b976af5cf0"
      },
      "outputs": [
        {
          "output_type": "stream",
          "name": "stdout",
          "text": [
            "덧셈: 13\n",
            "뺄셈: 7\n",
            "곱셈: 30\n",
            "나눗셈: 3.3333333333333335\n",
            "몫: 3\n",
            "나머지: 1\n",
            "거듭제곱: 1000\n"
          ]
        }
      ],
      "source": [
        "\n",
        "# 숫자 연산 예제\n",
        "a = 10\n",
        "b = 3\n",
        "\n",
        "print(\"덧셈:\", a + b)\n",
        "print(\"뺄셈:\", a - b)\n",
        "print(\"곱셈:\", a * b)\n",
        "print(\"나눗셈:\", a / b)\n",
        "print(\"몫:\", a // b)  # 정수 나눗셈\n",
        "print(\"나머지:\", a % b)\n",
        "print(\"거듭제곱:\", a ** b)  # 10의 3제곱\n"
      ]
    },
    {
      "cell_type": "markdown",
      "id": "a29a144e",
      "metadata": {
        "id": "a29a144e"
      },
      "source": [
        "\n",
        "### 5.2 리스트 연산\n",
        "\n",
        "리스트는 여러 개의 요소를 저장할 수 있으며, 요소를 변경할 수도 있습니다.\n"
      ]
    },
    {
      "cell_type": "code",
      "execution_count": null,
      "id": "6114afca",
      "metadata": {
        "colab": {
          "base_uri": "https://localhost:8080/"
        },
        "id": "6114afca",
        "outputId": "1297eecf-dbdf-4e38-ab75-14604a8c4570"
      },
      "outputs": [
        {
          "output_type": "stream",
          "name": "stdout",
          "text": [
            "기본 리스트: ['사과', '바나나', '포도']\n",
            "변경된 리스트: ['사과', '오렌지', '포도']\n",
            "리스트 확장: ['사과', '오렌지', '포도', '복숭아', '수박']\n"
          ]
        }
      ],
      "source": [
        "\n",
        "fruits = [\"사과\", \"바나나\", \"포도\"]\n",
        "print(\"기본 리스트:\", fruits)\n",
        "\n",
        "# 리스트 요소 변경\n",
        "fruits[1] = \"오렌지\"\n",
        "print(\"변경된 리스트:\", fruits)\n",
        "\n",
        "# 리스트 더하기\n",
        "new_fruits = fruits + [\"복숭아\", \"수박\"]\n",
        "print(\"리스트 확장:\", new_fruits)\n"
      ]
    },
    {
      "cell_type": "markdown",
      "id": "25340ab1",
      "metadata": {
        "id": "25340ab1"
      },
      "source": [
        "\n",
        "### 5.3 튜플의 주의점\n",
        "\n",
        "튜플에서 원소가 1개일 경우, 쉼표(`,`)를 반드시 붙여야 합니다.\n"
      ]
    },
    {
      "cell_type": "code",
      "execution_count": null,
      "id": "5ab8a813",
      "metadata": {
        "colab": {
          "base_uri": "https://localhost:8080/"
        },
        "id": "5ab8a813",
        "outputId": "e7e0e299-4a8d-4fdb-d145-9196a7eb7553"
      },
      "outputs": [
        {
          "output_type": "stream",
          "name": "stdout",
          "text": [
            "튜플: (10,) <class 'tuple'>\n"
          ]
        }
      ],
      "source": [
        "\n",
        "single_tuple = (10,)  # 쉼표를 붙이지 않으면 정수형으로 인식됨\n",
        "print(\"튜플:\", single_tuple, type(single_tuple))\n"
      ]
    },
    {
      "cell_type": "markdown",
      "id": "2a276b31",
      "metadata": {
        "id": "2a276b31"
      },
      "source": [
        "\n",
        "### 5.4 딕셔너리 연산\n",
        "\n",
        "딕셔너리는 키를 통해 값을 저장하고 검색할 수 있습니다.\n"
      ]
    },
    {
      "cell_type": "code",
      "execution_count": null,
      "id": "d6126b87",
      "metadata": {
        "colab": {
          "base_uri": "https://localhost:8080/"
        },
        "id": "d6126b87",
        "outputId": "937f9250-c84e-4e8c-85b8-d488fa231827"
      },
      "outputs": [
        {
          "output_type": "stream",
          "name": "stdout",
          "text": [
            "이름: 홍길동\n",
            "업데이트된 딕셔너리: {'name': '홍길동', 'age': 20, 'major': '컴퓨터공학', 'grade': 2}\n",
            "키 목록: dict_keys(['name', 'age', 'major', 'grade'])\n",
            "값 목록: dict_values(['홍길동', 20, '컴퓨터공학', 2])\n"
          ]
        }
      ],
      "source": [
        "\n",
        "# 딕셔너리 생성\n",
        "student = {\"name\": \"홍길동\", \"age\": 20, \"major\": \"컴퓨터공학\"}\n",
        "\n",
        "# 값 출력\n",
        "print(\"이름:\", student[\"name\"])\n",
        "\n",
        "# 새로운 키-값 추가\n",
        "student[\"grade\"] = 2\n",
        "print(\"업데이트된 딕셔너리:\", student)\n",
        "\n",
        "# keys(), values() 메서드 사용\n",
        "print(\"키 목록:\", student.keys())\n",
        "print(\"값 목록:\", student.values())\n"
      ]
    },
    {
      "cell_type": "markdown",
      "id": "fc77b0f5",
      "metadata": {
        "id": "fc77b0f5"
      },
      "source": [
        "\n",
        "### 5.5 집합 연산\n",
        "\n",
        "집합은 중복을 허용하지 않으며, 집합 연산(합집합, 교집합, 차집합)을 수행할 수 있습니다.\n"
      ]
    },
    {
      "cell_type": "code",
      "execution_count": null,
      "id": "8de1f34a",
      "metadata": {
        "colab": {
          "base_uri": "https://localhost:8080/"
        },
        "id": "8de1f34a",
        "outputId": "94f39a70-0d28-4961-bce1-5a08e09fc1e7"
      },
      "outputs": [
        {
          "output_type": "stream",
          "name": "stdout",
          "text": [
            "합집합: {1, 2, 3, 4, 5, 6}\n",
            "교집합: {3, 4}\n",
            "차집합: {1, 2}\n"
          ]
        }
      ],
      "source": [
        "\n",
        "A = {1, 2, 3, 4}\n",
        "B = {3, 4, 5, 6}\n",
        "\n",
        "print(\"합집합:\", A | B)\n",
        "print(\"교집합:\", A & B)\n",
        "print(\"차집합:\", A - B)\n"
      ]
    },
    {
      "cell_type": "markdown",
      "id": "19f838e1",
      "metadata": {
        "id": "19f838e1"
      },
      "source": [
        "## 5. ✨ 스스로 해결해보는 실습 문제 ✨\n",
        "\n",
        "아래 문제들을 직접 코드로 작성하여 실행해보세요!\n",
        "\n",
        "### 문제 1: 변수 선언  \n",
        "1. `x` 변수에 정수 `42`를 저장하고 출력하세요.  \n",
        "2. `y` 변수에 실수 `3.14`를 저장하고 출력하세요.  \n",
        "3. `z` 변수에 문자열 `\"Python Programming\"`을 저장하고 출력하세요.  \n",
        "\n"
      ]
    },
    {
      "cell_type": "code",
      "execution_count": null,
      "id": "77a46e35",
      "metadata": {
        "colab": {
          "base_uri": "https://localhost:8080/"
        },
        "id": "77a46e35",
        "outputId": "0177bf25-0eea-4c9f-b4e6-5a8e8465ccbb"
      },
      "outputs": [
        {
          "output_type": "stream",
          "name": "stdout",
          "text": [
            "42\n",
            "3.14\n",
            "Python Programming\n"
          ]
        }
      ],
      "source": [
        "\n",
        "# 문제 1: 변수 선언\n",
        "x = 42\n",
        "y = 3.14\n",
        "z = \"Python Programming\"\n",
        "\n",
        "print(x)\n",
        "print(y)\n",
        "print(z)\n"
      ]
    },
    {
      "cell_type": "markdown",
      "source": [
        "### 문제 2: 자료형 확인  \n",
        "1. `type()` 함수를 이용하여 각 변수 (`x`, `y`, `z`)의 자료형을 출력하세요.  \n",
        "\n"
      ],
      "metadata": {
        "id": "DkatNQUHU4Gz"
      },
      "id": "DkatNQUHU4Gz"
    },
    {
      "cell_type": "code",
      "execution_count": null,
      "id": "53459585",
      "metadata": {
        "colab": {
          "base_uri": "https://localhost:8080/"
        },
        "id": "53459585",
        "outputId": "40e37d25-9399-4cd5-c631-9f011e9b1d83"
      },
      "outputs": [
        {
          "output_type": "stream",
          "name": "stdout",
          "text": [
            "<class 'int'>\n",
            "<class 'float'>\n",
            "<class 'str'>\n"
          ]
        }
      ],
      "source": [
        "\n",
        "# 문제 2: 자료형 확인\n",
        "print(type(x))\n",
        "print(type(y))\n",
        "print(type(z))\n"
      ]
    },
    {
      "cell_type": "markdown",
      "source": [
        "### 문제 3: 리스트 활용  \n",
        "1. `fruits` 리스트에 `\"사과\", \"바나나\", \"포도\"`를 저장하고 출력하세요.  \n",
        "2. `fruits` 리스트의 첫 번째 요소를 출력하세요.  \n",
        "3. `fruits` 리스트에 `\"오렌지\"`를 추가한 후, 리스트를 출력하세요.  \n",
        "\n",
        "\n"
      ],
      "metadata": {
        "id": "k8EwK-Y7U4kf"
      },
      "id": "k8EwK-Y7U4kf"
    },
    {
      "cell_type": "code",
      "execution_count": null,
      "id": "5f11c36d",
      "metadata": {
        "colab": {
          "base_uri": "https://localhost:8080/"
        },
        "id": "5f11c36d",
        "outputId": "d123928c-b253-4af2-ad1e-ec59c4d3ea6c"
      },
      "outputs": [
        {
          "output_type": "stream",
          "name": "stdout",
          "text": [
            "['사과', '바나나', '포도']\n",
            "사과\n",
            "['사과', '바나나', '포도', '오렌지']\n"
          ]
        }
      ],
      "source": [
        "\n",
        "# 문제 3: 리스트 활용\n",
        "fruits = [\"사과\", \"바나나\", \"포도\"]\n",
        "print(fruits)  # 리스트 출력\n",
        "\n",
        "print(fruits[0])  # 첫 번째 요소 출력\n",
        "\n",
        "fruits.append(\"오렌지\")  # 리스트에 요소 추가\n",
        "print(fruits)\n"
      ]
    },
    {
      "cell_type": "markdown",
      "source": [
        "### 문제 4: 딕셔너리 활용  \n",
        "1. `student` 딕셔너리를 생성하여 `이름: \"홍길동\", 나이: 20, 학과: \"컴퓨터공학\"`을 저장하세요.  \n",
        "2. `student` 딕셔너리에서 `\"이름\"`에 해당하는 값을 출력하세요.  \n",
        "3. `student` 딕셔너리에 `\"학년\": 2` 키-값을 추가한 후 딕셔너리를 출력하세요.  \n",
        "\n"
      ],
      "metadata": {
        "id": "vFq4fQ3aU6Ga"
      },
      "id": "vFq4fQ3aU6Ga"
    },
    {
      "cell_type": "code",
      "execution_count": null,
      "id": "13c08a4e",
      "metadata": {
        "colab": {
          "base_uri": "https://localhost:8080/"
        },
        "id": "13c08a4e",
        "outputId": "8f356dea-ac4b-4f0d-aa48-f2d959e8e6fe"
      },
      "outputs": [
        {
          "output_type": "stream",
          "name": "stdout",
          "text": [
            "{'이름': '홍길동', '나이': 20, '학과': '컴퓨터공학'}\n",
            "홍길동\n",
            "{'이름': '홍길동', '나이': 20, '학과': '컴퓨터공학', '학년': 2}\n"
          ]
        }
      ],
      "source": [
        "\n",
        "# 문제 4: 딕셔너리 활용\n",
        "student = {\"이름\": \"홍길동\", \"나이\": 20, \"학과\": \"컴퓨터공학\"}\n",
        "print(student)  # 딕셔너리 출력\n",
        "\n",
        "print(student[\"이름\"])  # \"이름\" 키의 값 출력\n",
        "\n",
        "student[\"학년\"] = 2  # 새로운 키-값 추가\n",
        "print(student)\n"
      ]
    },
    {
      "cell_type": "markdown",
      "source": [
        "### 문제 5: 집합 활용  \n",
        "1. `{1, 2, 3, 4, 4, 5}`를 저장하는 `numbers_set` 변수를 만들고 출력하세요.  \n",
        "2. `numbers_set`에 `6`을 추가한 후, 집합을 출력하세요.  (hint: add 메서드를 활용하세요)"
      ],
      "metadata": {
        "id": "OxNjOPdkU5T8"
      },
      "id": "OxNjOPdkU5T8"
    },
    {
      "cell_type": "code",
      "execution_count": null,
      "id": "9c78af08",
      "metadata": {
        "colab": {
          "base_uri": "https://localhost:8080/"
        },
        "id": "9c78af08",
        "outputId": "b8153e37-3be6-4301-da9b-de3fb037dcb7"
      },
      "outputs": [
        {
          "output_type": "stream",
          "name": "stdout",
          "text": [
            "{1, 2, 3, 4, 5}\n",
            "{1, 2, 3, 4, 5, 6}\n"
          ]
        }
      ],
      "source": [
        "\n",
        "# 문제 5: 집합 활용\n",
        "numbers_set = {1, 2, 3, 4, 4, 5}  # 중복값은 자동 제거됨\n",
        "print(numbers_set)\n",
        "\n",
        "numbers_set.add(6)  # 집합에 값 추가\n",
        "print(numbers_set)\n"
      ]
    }
  ],
  "metadata": {
    "language_info": {
      "name": "python"
    },
    "colab": {
      "provenance": [],
      "include_colab_link": true
    },
    "kernelspec": {
      "name": "python3",
      "display_name": "Python 3"
    }
  },
  "nbformat": 4,
  "nbformat_minor": 5
}